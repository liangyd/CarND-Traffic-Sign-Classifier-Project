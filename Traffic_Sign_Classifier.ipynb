{
 "cells": [
  {
   "cell_type": "markdown",
   "metadata": {},
   "source": [
    "# Self-Driving Car Engineer Nanodegree\n",
    "\n",
    "## Deep Learning\n",
    "\n",
    "## Project: Build a Traffic Sign Recognition Classifier\n",
    "\n",
    "In this notebook, a template is provided for you to implement your functionality in stages, which is required to successfully complete this project. If additional code is required that cannot be included in the notebook, be sure that the Python code is successfully imported and included in your submission if necessary. \n",
    "\n",
    "> **Note**: Once you have completed all of the code implementations, you need to finalize your work by exporting the iPython Notebook as an HTML document. Before exporting the notebook to html, all of the code cells need to have been run so that reviewers can see the final implementation and output. You can then export the notebook by using the menu above and navigating to  \\n\",\n",
    "    \"**File -> Download as -> HTML (.html)**. Include the finished document along with this notebook as your submission. \n",
    "\n",
    "In addition to implementing code, there is a writeup to complete. The writeup should be completed in a separate file, which can be either a markdown file or a pdf document. There is a [write up template](https://github.com/udacity/CarND-Traffic-Sign-Classifier-Project/blob/master/writeup_template.md) that can be used to guide the writing process. Completing the code template and writeup template will cover all of the [rubric points](https://review.udacity.com/#!/rubrics/481/view) for this project.\n",
    "\n",
    "The [rubric](https://review.udacity.com/#!/rubrics/481/view) contains \"Stand Out Suggestions\" for enhancing the project beyond the minimum requirements. The stand out suggestions are optional. If you decide to pursue the \"stand out suggestions\", you can include the code in this Ipython notebook and also discuss the results in the writeup file.\n",
    "\n",
    "\n",
    ">**Note:** Code and Markdown cells can be executed using the **Shift + Enter** keyboard shortcut. In addition, Markdown cells can be edited by typically double-clicking the cell to enter edit mode."
   ]
  },
  {
   "cell_type": "markdown",
   "metadata": {},
   "source": [
    "---\n",
    "## Step 0: Load The Data"
   ]
  },
  {
   "cell_type": "code",
   "execution_count": 1,
   "metadata": {
    "collapsed": true
   },
   "outputs": [],
   "source": [
    "# Load pickled data\n",
    "import pickle\n",
    "\n",
    "# TODO: Fill this in based on where you saved the training and testing data\n",
    "\n",
    "training_file = \"traffic-signs-data/train.p\"\n",
    "validation_file= \"traffic-signs-data/valid.p\"\n",
    "testing_file = \"traffic-signs-data/test.p\"\n",
    "\n",
    "with open(training_file, mode='rb') as f:\n",
    "    train = pickle.load(f)\n",
    "with open(validation_file, mode='rb') as f:\n",
    "    valid = pickle.load(f)\n",
    "with open(testing_file, mode='rb') as f:\n",
    "    test = pickle.load(f)\n",
    "    \n",
    "X_train, y_train = train['features'], train['labels']\n",
    "X_valid, y_valid = valid['features'], valid['labels']\n",
    "X_test, y_test = test['features'], test['labels']"
   ]
  },
  {
   "cell_type": "markdown",
   "metadata": {},
   "source": [
    "---\n",
    "\n",
    "## Step 1: Dataset Summary & Exploration\n",
    "\n",
    "The pickled data is a dictionary with 4 key/value pairs:\n",
    "\n",
    "- `'features'` is a 4D array containing raw pixel data of the traffic sign images, (num examples, width, height, channels).\n",
    "- `'labels'` is a 1D array containing the label/class id of the traffic sign. The file `signnames.csv` contains id -> name mappings for each id.\n",
    "- `'sizes'` is a list containing tuples, (width, height) representing the original width and height the image.\n",
    "- `'coords'` is a list containing tuples, (x1, y1, x2, y2) representing coordinates of a bounding box around the sign in the image. **THESE COORDINATES ASSUME THE ORIGINAL IMAGE. THE PICKLED DATA CONTAINS RESIZED VERSIONS (32 by 32) OF THESE IMAGES**\n",
    "\n",
    "Complete the basic data summary below. Use python, numpy and/or pandas methods to calculate the data summary rather than hard coding the results. For example, the [pandas shape method](http://pandas.pydata.org/pandas-docs/stable/generated/pandas.DataFrame.shape.html) might be useful for calculating some of the summary results. "
   ]
  },
  {
   "cell_type": "markdown",
   "metadata": {},
   "source": [
    "### Provide a Basic Summary of the Data Set Using Python, Numpy and/or Pandas"
   ]
  },
  {
   "cell_type": "code",
   "execution_count": 2,
   "metadata": {
    "scrolled": true
   },
   "outputs": [
    {
     "name": "stdout",
     "output_type": "stream",
     "text": [
      "Number of training examples = 34799\n",
      "Number of testing examples = 12630\n",
      "Image data shape = (32, 32, 3)\n",
      "Number of classes = 43\n"
     ]
    }
   ],
   "source": [
    "### Replace each question mark with the appropriate value. \n",
    "### Use python, pandas or numpy methods rather than hard coding the results\n",
    "import pandas as pd\n",
    "# TODO: Number of training examples\n",
    "n_train = len(X_train)\n",
    "\n",
    "# TODO: Number of validation examples\n",
    "n_validation = len(X_valid)\n",
    "\n",
    "# TODO: Number of testing examples.\n",
    "n_test = len(X_test)\n",
    "\n",
    "# TODO: What's the shape of an traffic sign image?\n",
    "image_shape = X_train[0].shape\n",
    "\n",
    "# TODO: How many unique classes/labels there are in the dataset.\n",
    "n_classes = len(pd.unique(y_train))\n",
    "\n",
    "print(\"Number of training examples =\", n_train)\n",
    "print(\"Number of testing examples =\", n_test)\n",
    "print(\"Image data shape =\", image_shape)\n",
    "print(\"Number of classes =\", n_classes)"
   ]
  },
  {
   "cell_type": "markdown",
   "metadata": {},
   "source": [
    "### Include an exploratory visualization of the dataset"
   ]
  },
  {
   "cell_type": "markdown",
   "metadata": {},
   "source": [
    "Visualize the German Traffic Signs Dataset using the pickled file(s). This is open ended, suggestions include: plotting traffic sign images, plotting the count of each sign, etc. \n",
    "\n",
    "The [Matplotlib](http://matplotlib.org/) [examples](http://matplotlib.org/examples/index.html) and [gallery](http://matplotlib.org/gallery.html) pages are a great resource for doing visualizations in Python.\n",
    "\n",
    "**NOTE:** It's recommended you start with something simple first. If you wish to do more, come back to it after you've completed the rest of the sections. It can be interesting to look at the distribution of classes in the training, validation and test set. Is the distribution the same? Are there more examples of some classes than others?"
   ]
  },
  {
   "cell_type": "code",
   "execution_count": 3,
   "metadata": {
    "scrolled": true
   },
   "outputs": [
    {
     "name": "stdout",
     "output_type": "stream",
     "text": [
      "Training Data Sample:\n"
     ]
    },
    {
     "data": {
      "image/png": "[encoded data removed]",
      "text/plain": [
       "<matplotlib.figure.Figure at 0x7f352a25e908>"
      ]
     },
     "metadata": {},
     "output_type": "display_data"
    }
   ],
   "source": [
    "### Data exploration visualization code goes here.\n",
    "### Feel free to use as many code cells as needed.\n",
    "import matplotlib.pyplot as plt\n",
    "import numpy as np\n",
    "# Visualizations will be shown in the notebook.\n",
    "%matplotlib inline\n",
    "# read the sign name from the signnames.csv\n",
    "signnames=pd.read_csv('signnames.csv', sep=',',header=None)\n",
    "\n",
    "# show 4 images randomly from training dataset\n",
    "fig, axs = plt.subplots(1,4, figsize=(12, 3))\n",
    "fig.subplots_adjust(wspace=0.6)\n",
    "axs=axs.ravel()\n",
    "print('Training Data Sample:')\n",
    "for i in range(4):\n",
    "    index = np.random.randint(0, n_train)\n",
    "    image = X_train[index]\n",
    "    axs[i].axis('off')\n",
    "    axs[i].imshow(image)\n",
    "    name=signnames[1][y_train[index]+1]\n",
    "    axs[i].set_title(name, fontsize=8)\n",
    "    "
   ]
  },
  {
   "cell_type": "code",
   "execution_count": 4,
   "metadata": {
    "scrolled": true
   },
   "outputs": [
    {
     "data": {
      "image/png": "[encoded data removed]",
      "text/plain": [
       "<matplotlib.figure.Figure at 0x7f352a25e320>"
      ]
     },
     "metadata": {},
     "output_type": "display_data"
    }
   ],
   "source": [
    "# Create a barchart of distribution for original data \n",
    "fig, axs = plt.subplots(1,3, figsize=(15, 5))\n",
    "fig.subplots_adjust(wspace=0.2)\n",
    "# Barchart for training dataset\n",
    "item_train, count_train = np.unique(y_train, return_counts=True)\n",
    "axs[0].bar(item_train, count_train)\n",
    "axs[0].set_title('Training Dataset Distribution')\n",
    "# Barchart for validation dataset\n",
    "item_valid, count_valid = np.unique(y_valid, return_counts=True)\n",
    "axs[1].bar(item_valid, count_valid)\n",
    "axs[1].set_title('Validation Dataset Distribution')\n",
    "# Barchart for validation dataset\n",
    "item_test, count_test = np.unique(y_test, return_counts=True)\n",
    "axs[2].bar(item_test, count_test)\n",
    "axs[2].set_title('Test Dataset Distribution')\n",
    "\n",
    "plt.show()\n"
   ]
  },
  {
   "cell_type": "markdown",
   "metadata": {},
   "source": [
    "----\n",
    "\n",
    "## Step 2: Design and Test a Model Architecture\n",
    "\n",
    "Design and implement a deep learning model that learns to recognize traffic signs. Train and test your model on the [German Traffic Sign Dataset](http://benchmark.ini.rub.de/?section=gtsrb&subsection=dataset).\n",
    "\n",
    "The LeNet-5 implementation shown in the [classroom](https://classroom.udacity.com/nanodegrees/nd013/parts/fbf77062-5703-404e-b60c-95b78b2f3f9e/modules/6df7ae49-c61c-4bb2-a23e-6527e69209ec/lessons/601ae704-1035-4287-8b11-e2c2716217ad/concepts/d4aca031-508f-4e0b-b493-e7b706120f81) at the end of the CNN lesson is a solid starting point. You'll have to change the number of classes and possibly the preprocessing, but aside from that it's plug and play! \n",
    "\n",
    "With the LeNet-5 solution from the lecture, you should expect a validation set accuracy of about 0.89. To meet specifications, the validation set accuracy will need to be at least 0.93. It is possible to get an even higher accuracy, but 0.93 is the minimum for a successful project submission. \n",
    "\n",
    "There are various aspects to consider when thinking about this problem:\n",
    "\n",
    "- Neural network architecture (is the network over or underfitting?)\n",
    "- Play around preprocessing techniques (normalization, rgb to grayscale, etc)\n",
    "- Number of examples per label (some have more than others).\n",
    "- Generate fake data.\n",
    "\n",
    "Here is an example of a [published baseline model on this problem](http://yann.lecun.com/exdb/publis/pdf/sermanet-ijcnn-11.pdf). It's not required to be familiar with the approach used in the paper but, it's good practice to try to read papers like these."
   ]
  },
  {
   "cell_type": "markdown",
   "metadata": {},
   "source": [
    "### Pre-process the Data Set (normalization, grayscale, etc.)"
   ]
  },
  {
   "cell_type": "markdown",
   "metadata": {},
   "source": [
    "Minimally, the image data should be normalized so that the data has mean zero and equal variance. For image data, `(pixel - 128)/ 128` is a quick way to approximately normalize the data and can be used in this project. \n",
    "\n",
    "Other pre-processing steps are optional. You can try different techniques to see if it improves performance. \n",
    "\n",
    "Use the code cell (or multiple code cells, if necessary) to implement the first step of your project."
   ]
  },
  {
   "cell_type": "code",
   "execution_count": 5,
   "metadata": {
    "collapsed": true
   },
   "outputs": [],
   "source": [
    "### Preprocess the data here. It is required to normalize the data. Other preprocessing steps could include \n",
    "### converting to grayscale, etc.\n",
    "### Feel free to use as many code cells as needed.\n",
    "import cv2\n",
    "\n",
    "\n",
    "# Convert to grayscale\n",
    "def grayscale(dataset):\n",
    "    # set the dimension of the image in the output dataset\n",
    "    num, height, width, channel = dataset.shape\n",
    "    output_shape=([num, height, width, 1])\n",
    "    # calculate the grayscale (Gray=0.299*R+0.587*G+0.114*B)\n",
    "    output=np.zeros(output_shape)\n",
    "    for i in range(len(dataset)):\n",
    "        img_rgb=dataset[i]\n",
    "        img_gray=np.dot(img_rgb[...,:3], [0.299, 0.587, 0.114])\n",
    "        output[i]=np.expand_dims(img_gray, axis=height*width) \n",
    "    return output\n",
    "\n",
    "# Normalize the data\n",
    "def norm(dataset):\n",
    "    return(dataset-128)/128\n",
    "\n",
    "# Scale the image\n",
    "def scaling(img):\n",
    "    xscale=np.random.uniform(0.9, 1.1)\n",
    "    yscale=np.random.uniform(0.9, 1.1)\n",
    "    M=np.float32([[xscale,0,0],[0,yscale,0]])\n",
    "    output=cv2.warpAffine(img, M, (img.shape[0], img.shape[1]))\n",
    "    return np.expand_dims(output, axis=img.shape[0]*img.shape[1])\n",
    "\n",
    "# Change the position\n",
    "def translation(img):\n",
    "    dx=np.random.uniform(-2, 2)\n",
    "    dy=np.random.uniform(-2, 2)\n",
    "    M=np.float32([[1,0,dx],[0,1,dy]])\n",
    "    output=cv2.warpAffine(img, M, (img.shape[0], img.shape[1]))\n",
    "    return np.expand_dims(output, axis=img.shape[0]*img.shape[1])\n",
    "\n",
    "# Rotate the image\n",
    "def rotation(img):\n",
    "    angle=np.random.uniform(-10, 10)\n",
    "    M = cv2.getRotationMatrix2D((img.shape[0]/2, img.shape[1]/2),angle,1)\n",
    "    output=cv2.warpAffine(img,M,(img.shape[0], img.shape[1]))\n",
    "    return np.expand_dims(output, axis=img.shape[0]*img.shape[1])\n",
    "\n",
    "# Change brightness\n",
    "def bright(img):\n",
    "    value=np.random.uniform(-10,10)\n",
    "    return img+value"
   ]
  },
  {
   "cell_type": "code",
   "execution_count": 6,
   "metadata": {
    "scrolled": false
   },
   "outputs": [
    {
     "data": {
      "text/plain": [
       "<matplotlib.text.Text at 0x7f350b5a3048>"
      ]
     },
     "execution_count": 6,
     "metadata": {},
     "output_type": "execute_result"
    },
    {
     "data": {
      "image/png": "[encoded data removed]",
      "text/plain": [
       "<matplotlib.figure.Figure at 0x7f351cacc588>"
      ]
     },
     "metadata": {},
     "output_type": "display_data"
    }
   ],
   "source": [
    "### Preprocessing\n",
    "# Shuffle the dataset\n",
    "from sklearn.utils import shuffle\n",
    "X_train, y_train=shuffle(X_train, y_train)\n",
    "X_valid, y_valid=shuffle(X_valid, y_valid)\n",
    "\n",
    "# Grayscale\n",
    "X_train_gray=grayscale(X_train)\n",
    "X_valid_gray=grayscale(X_valid)\n",
    "#print(X_train_gray.shape)\n",
    "\n",
    "# Resample 3000 images for each label in training set\n",
    "num_image=3000\n",
    "quotient=np.zeros(n_classes)\n",
    "remainder=np.zeros(n_classes)\n",
    "num_count=np.zeros(n_classes)\n",
    "for i in range(n_classes):\n",
    "    quotient[i], remainder[i]=divmod(num_image,count_train[i])\n",
    "\n",
    "X_train_resample=[]\n",
    "y_train_resample=[]\n",
    "\n",
    "for j in range(n_train):\n",
    "    if num_count[y_train[j]]<num_image:\n",
    "        X_train_resample.append(X_train_gray[j])\n",
    "        y_train_resample.append(y_train[j])\n",
    "        num_count[y_train[j]]+=1\n",
    "        # create more image data through affine transformation\n",
    "        for k in range(int(quotient[y_train[j]])-1):\n",
    "            img_new=bright(scaling(rotation(translation(X_train_gray[j]))))\n",
    "            X_train_resample.append(img_new)\n",
    "            y_train_resample.append(y_train[j])            \n",
    "        if remainder[y_train[j]]>0:\n",
    "            img_new=bright(scaling(rotation(translation(X_train_gray[j]))))\n",
    "            X_train_resample.append(img_new)\n",
    "            y_train_resample.append(y_train[j])\n",
    "            remainder[y_train[j]]-=1\n",
    "\n",
    "#Formatting\n",
    "X_train_resample=np.reshape(X_train_resample,(np.shape(X_train_resample)[0], 32, 32, 1))\n",
    "y_train_resample=np.reshape(y_train_resample,(np.shape(y_train_resample)[0]))\n",
    "\n",
    "\n",
    "#Plot\n",
    "fig, axs = plt.subplots(1,2, figsize=(10, 5))\n",
    "fig.subplots_adjust(wspace=0.2)\n",
    "# Barchart for training dataset\n",
    "item_train, count_train = np.unique(y_train_resample, return_counts=True)\n",
    "axs[0].bar(item_train, count_train)\n",
    "axs[0].set_title('Training Dataset Distribution')\n",
    "# Barchart for validation dataset\n",
    "item_valid, count_valid = np.unique(y_valid, return_counts=True)\n",
    "axs[1].bar(item_valid, count_valid)\n",
    "axs[1].set_title('Validation Dataset Distribution')"
   ]
  },
  {
   "cell_type": "code",
   "execution_count": 7,
   "metadata": {
    "scrolled": false
   },
   "outputs": [],
   "source": [
    "# Normalize the training data and validation data\n",
    "X_train=norm(X_train_resample)\n",
    "y_train=y_train_resample\n",
    "X_valid=norm(X_valid_gray)\n",
    "y_valid=y_valid\n",
    "\n",
    "# from sklearn.model_selection import train_test_split\n",
    "# X_train, X_valid, y_train, y_valid = train_test_split(X_train, y_train, test_size=0.2, random_state=0)\n",
    "# print(X_train.shape)\n",
    "# print(y_train.shape)\n",
    "# print(X_valid.shape)\n",
    "# print(y_valid.shape)\n",
    "\n",
    "\n",
    "# fig, axs = plt.subplots(1,2, figsize=(10, 5))\n",
    "# fig.subplots_adjust(wspace=0.2)\n",
    "# # Barchart for training dataset\n",
    "# item_train, count_train = np.unique(y_train, return_counts=True)\n",
    "# axs[0].bar(item_train, count_train)\n",
    "# axs[0].set_title('Training Dataset Distribution')\n",
    "# # Barchart for validation dataset\n",
    "# item_valid, count_valid = np.unique(y_valid, return_counts=True)\n",
    "# axs[1].bar(item_valid, count_valid)\n",
    "# axs[1].set_title('Validation Dataset Distribution')\n"
   ]
  },
  {
   "cell_type": "markdown",
   "metadata": {},
   "source": [
    "### Model Architecture"
   ]
  },
  {
   "cell_type": "code",
   "execution_count": 8,
   "metadata": {
    "collapsed": true
   },
   "outputs": [],
   "source": [
    "### Define your architecture here.\n",
    "### Feel free to use as many code cells as needed.\n",
    "\n",
    "### Setup epoch and batch size\n",
    "import tensorflow as tf\n",
    "\n",
    "EPOCHS = 10\n",
    "BATCH_SIZE = 128"
   ]
  },
  {
   "cell_type": "code",
   "execution_count": 9,
   "metadata": {
    "collapsed": true
   },
   "outputs": [],
   "source": [
    "### Define LeNet Architecture\n",
    "from tensorflow.contrib.layers import flatten\n",
    "\n",
    "def LeNet(x):    \n",
    "    # Arguments used for tf.truncated_normal, randomly defines variables for the weights and biases for each layer\n",
    "    mu = 0\n",
    "    sigma = 0.1\n",
    "    \n",
    "    # Layer 1: Convolutional. Input = 32x32x1. Output = 28x28x6.\n",
    "    conv1_W = tf.Variable(tf.truncated_normal(shape=(5, 5, 1, 6), mean = mu, stddev = sigma))\n",
    "    conv1_b = tf.Variable(tf.zeros(6))\n",
    "    conv1   = tf.nn.conv2d(x, conv1_W, strides=[1, 1, 1, 1], padding='VALID') + conv1_b\n",
    "\n",
    "    # Activation.\n",
    "    conv1 = tf.nn.relu(conv1)\n",
    "\n",
    "    # Pooling. Input = 28x28x6. Output = 14x14x6.\n",
    "    conv1 = tf.nn.max_pool(conv1, ksize=[1, 2, 2, 1], strides=[1, 2, 2, 1], padding='VALID')\n",
    "\n",
    "    # Layer 2: Convolutional. Output = 10x10x16.\n",
    "    conv2_W = tf.Variable(tf.truncated_normal(shape=(5, 5, 6, 16), mean = mu, stddev = sigma))\n",
    "    conv2_b = tf.Variable(tf.zeros(16))\n",
    "    conv2   = tf.nn.conv2d(conv1, conv2_W, strides=[1, 1, 1, 1], padding='VALID') + conv2_b\n",
    "    \n",
    "    # Activation.\n",
    "    conv2 = tf.nn.relu(conv2)\n",
    "\n",
    "    # Pooling. Input = 10x10x16. Output = 5x5x16.\n",
    "    conv2 = tf.nn.max_pool(conv2, ksize=[1, 2, 2, 1], strides=[1, 2, 2, 1], padding='VALID')\n",
    "\n",
    "    # Layer 3: Convolutional. Input=5x5x16. Output=1x1x400\n",
    "    conv3_W = tf.Variable(tf.truncated_normal(shape=(5, 5, 16, 400), mean = mu, stddev = sigma))\n",
    "    conv3_b = tf.Variable(tf.zeros(400))\n",
    "    conv3   = tf.nn.conv2d(conv2, conv3_W, strides=[1, 1, 1, 1], padding='VALID') + conv3_b\n",
    "    # Activation.\n",
    "    conv3 = tf.nn.relu(conv3)\n",
    "    \n",
    "    \n",
    "    # Flatten. Input1 = 5x5x16. Input2=1x1x400, Output = 400.\n",
    "    fc0_input1   = flatten(conv2)\n",
    "    fc0_input2   = flatten(conv3)\n",
    "    fc0 = tf.concat_v2([fc0_input1, fc0_input2], 1)\n",
    "    \n",
    "    # Dropout. \n",
    "    fc0 = tf.nn.dropout(fc0, keep_prob)\n",
    "    \n",
    "    \n",
    "    # Layer 4: Fully Connected. Input = 800. Output = 43.\n",
    "    fc1_W = tf.Variable(tf.truncated_normal(shape=(800, 43), mean = mu, stddev = sigma))\n",
    "    fc1_b = tf.Variable(tf.zeros(43))\n",
    "    fc1   = tf.matmul(fc0, fc1_W) + fc1_b\n",
    "    \n",
    "    logits=fc1\n",
    "    \n",
    "#     # Activation.\n",
    "#     fc1    = tf.nn.relu(fc1)\n",
    "\n",
    "#     # Layer 5: Fully Connected. Input = 120. Output = 84.\n",
    "#     fc2_W  = tf.Variable(tf.truncated_normal(shape=(120, 84), mean = mu, stddev = sigma))\n",
    "#     fc2_b  = tf.Variable(tf.zeros(84))\n",
    "#     fc2    = tf.matmul(fc1, fc2_W) + fc2_b\n",
    "    \n",
    "#     # Activation.\n",
    "#     fc2    = tf.nn.relu(fc2)\n",
    "\n",
    "#     # Layer 6: Fully Connected. Input = 84. Output = 43.\n",
    "#     fc3_W  = tf.Variable(tf.truncated_normal(shape=(84, 43), mean = mu, stddev = sigma))\n",
    "#     fc3_b  = tf.Variable(tf.zeros(43))\n",
    "#     logits = tf.matmul(fc2, fc3_W) + fc3_b\n",
    "    \n",
    "    return logits\n",
    "\n"
   ]
  },
  {
   "cell_type": "code",
   "execution_count": 10,
   "metadata": {
    "collapsed": true
   },
   "outputs": [],
   "source": [
    "### Define feature and label\n",
    "\n",
    "x = tf.placeholder(tf.float32, (None, 32, 32, 1))\n",
    "y = tf.placeholder(tf.int32, (None))\n",
    "keep_prob = tf.placeholder(tf.float32)\n",
    "one_hot_y = tf.one_hot(y, 43)\n"
   ]
  },
  {
   "cell_type": "code",
   "execution_count": 11,
   "metadata": {
    "collapsed": true
   },
   "outputs": [],
   "source": [
    "### Define the Training Pipeline\n",
    "rate = 0.001\n",
    "\n",
    "logits = LeNet(x)\n",
    "cross_entropy = tf.nn.softmax_cross_entropy_with_logits(labels=one_hot_y, logits=logits)\n",
    "loss_operation = tf.reduce_mean(cross_entropy)\n",
    "optimizer = tf.train.AdamOptimizer(learning_rate = rate)\n",
    "training_operation = optimizer.minimize(loss_operation)"
   ]
  },
  {
   "cell_type": "code",
   "execution_count": 12,
   "metadata": {
    "collapsed": true
   },
   "outputs": [],
   "source": [
    "### Model Evaluation\n",
    "correct_prediction = tf.equal(tf.argmax(logits, 1), tf.argmax(one_hot_y, 1))\n",
    "accuracy_operation = tf.reduce_mean(tf.cast(correct_prediction, tf.float32))\n",
    "saver = tf.train.Saver()\n",
    "\n",
    "def evaluate(X_data, y_data):\n",
    "    num_examples = len(X_data)\n",
    "    total_accuracy = 0\n",
    "    sess = tf.get_default_session()\n",
    "    for offset in range(0, num_examples, BATCH_SIZE):\n",
    "        batch_x, batch_y = X_data[offset:offset+BATCH_SIZE], y_data[offset:offset+BATCH_SIZE]\n",
    "        accuracy = sess.run(accuracy_operation, feed_dict={x: batch_x, y: batch_y, keep_prob: 1.0})\n",
    "        total_accuracy += (accuracy * len(batch_x))\n",
    "    return total_accuracy / num_examples"
   ]
  },
  {
   "cell_type": "markdown",
   "metadata": {},
   "source": [
    "### Train, Validate and Test the Model"
   ]
  },
  {
   "cell_type": "markdown",
   "metadata": {},
   "source": [
    "A validation set can be used to assess how well the model is performing. A low accuracy on the training and validation\n",
    "sets imply underfitting. A high accuracy on the training set but low accuracy on the validation set implies overfitting."
   ]
  },
  {
   "cell_type": "code",
   "execution_count": 13,
   "metadata": {
    "scrolled": false
   },
   "outputs": [
    {
     "name": "stdout",
     "output_type": "stream",
     "text": [
      "Training...\n",
      "\n",
      "EPOCH 1 ...\n",
      "Validation Accuracy = 0.892\n",
      "\n",
      "EPOCH 2 ...\n",
      "Validation Accuracy = 0.936\n",
      "\n",
      "EPOCH 3 ...\n",
      "Validation Accuracy = 0.941\n",
      "\n",
      "EPOCH 4 ...\n",
      "Validation Accuracy = 0.953\n",
      "\n",
      "EPOCH 5 ...\n",
      "Validation Accuracy = 0.954\n",
      "\n",
      "EPOCH 6 ...\n",
      "Validation Accuracy = 0.961\n",
      "\n",
      "EPOCH 7 ...\n",
      "Validation Accuracy = 0.958\n",
      "\n",
      "EPOCH 8 ...\n",
      "Validation Accuracy = 0.958\n",
      "\n",
      "EPOCH 9 ...\n",
      "Validation Accuracy = 0.964\n",
      "\n",
      "EPOCH 10 ...\n",
      "Validation Accuracy = 0.963\n",
      "\n",
      "Model saved\n"
     ]
    }
   ],
   "source": [
    "### Train your model here.\n",
    "### Calculate and report the accuracy on the training and validation set.\n",
    "### Once a final model architecture is selected, \n",
    "### the accuracy on the test set should be calculated and reported as well.\n",
    "### Feel free to use as many code cells as needed.\n",
    "\n",
    "with tf.Session() as sess:\n",
    "    sess.run(tf.global_variables_initializer())\n",
    "    num_examples = len(X_train)\n",
    "    \n",
    "    print(\"Training...\")\n",
    "    print()\n",
    "    for i in range(EPOCHS):\n",
    "        X_train, y_train = shuffle(X_train, y_train)\n",
    "        for offset in range(0, num_examples, BATCH_SIZE):\n",
    "            end = offset + BATCH_SIZE\n",
    "            batch_x, batch_y = X_train[offset:end], y_train[offset:end]\n",
    "            sess.run(training_operation, feed_dict={x: batch_x, y: batch_y, keep_prob: 0.5})\n",
    "            \n",
    "        validation_accuracy = evaluate(X_valid, y_valid)\n",
    "        print(\"EPOCH {} ...\".format(i+1))\n",
    "        print(\"Validation Accuracy = {:.3f}\".format(validation_accuracy))\n",
    "        print()\n",
    "        \n",
    "    saver.save(sess, './lenet')\n",
    "    print(\"Model saved\")\n",
    "\n",
    "    "
   ]
  },
  {
   "cell_type": "code",
   "execution_count": 14,
   "metadata": {},
   "outputs": [
    {
     "name": "stdout",
     "output_type": "stream",
     "text": [
      "Test Accuracy = 0.945\n"
     ]
    }
   ],
   "source": [
    "### Evaluate the Model Accuracy\n",
    "X_test=norm(grayscale(X_test))\n",
    "\n",
    "with tf.Session() as sess:\n",
    "    saver.restore(sess, tf.train.latest_checkpoint('.'))\n",
    "\n",
    "    test_accuracy = evaluate(X_test, y_test)\n",
    "    print(\"Test Accuracy = {:.3f}\".format(test_accuracy))"
   ]
  },
  {
   "cell_type": "markdown",
   "metadata": {},
   "source": [
    "---\n",
    "\n",
    "## Step 3: Test a Model on New Images\n",
    "\n",
    "To give yourself more insight into how your model is working, download at least five pictures of German traffic signs from the web and use your model to predict the traffic sign type.\n",
    "\n",
    "You may find `signnames.csv` useful as it contains mappings from the class id (integer) to the actual sign name."
   ]
  },
  {
   "cell_type": "markdown",
   "metadata": {},
   "source": [
    "### Load and Output the Images"
   ]
  },
  {
   "cell_type": "code",
   "execution_count": 15,
   "metadata": {
    "scrolled": true
   },
   "outputs": [
    {
     "data": {
      "image/png": "[encoded data removed]",
      "text/plain": [
       "<matplotlib.figure.Figure at 0x7f351ee027f0>"
      ]
     },
     "metadata": {},
     "output_type": "display_data"
    }
   ],
   "source": [
    "### Load the images and plot them here.\n",
    "### Feel free to use as many code cells as needed.\n",
    "import matplotlib.pyplot as plt\n",
    "import matplotlib.image as mpimg\n",
    "import numpy as np\n",
    "import os\n",
    "\n",
    "# Visualizations will be shown in the notebook.\n",
    "%matplotlib inline\n",
    "\n",
    "fig, axs = plt.subplots(2,4, figsize=(4, 2))\n",
    "fig.subplots_adjust(hspace = .2, wspace=.001)\n",
    "axs = axs.ravel()\n",
    "\n",
    "images={}\n",
    "X_new=np.zeros((8,32,32,3))\n",
    "for i in range(8):\n",
    "    #read file\n",
    "    filename=\"my-traffic-signs/%d.png\" %(i+1)\n",
    "    image=cv2.imread(filename)\n",
    "    #resize image to 32x32\n",
    "    image=cv2.resize(image,(32,32),interpolation = cv2.INTER_CUBIC)\n",
    "    #Convert the color to RGB\n",
    "    image=cv2.cvtColor(image, cv2.COLOR_BGR2RGB)\n",
    "    images[i]=image\n",
    "    X_new[i]=image\n",
    "    axs[i].axis('off')\n",
    "    axs[i].imshow(images[i])\n",
    "\n",
    "labels=[14, 25, 3, 15, 18, 34, 0, 13]"
   ]
  },
  {
   "cell_type": "markdown",
   "metadata": {},
   "source": [
    "### Predict the Sign Type for Each Image"
   ]
  },
  {
   "cell_type": "code",
   "execution_count": 16,
   "metadata": {},
   "outputs": [
    {
     "name": "stdout",
     "output_type": "stream",
     "text": [
      "Prediction Result:\n"
     ]
    },
    {
     "data": {
      "image/png": "[encoded data removed]",
      "text/plain": [
       "<matplotlib.figure.Figure at 0x7f34847ceac8>"
      ]
     },
     "metadata": {},
     "output_type": "display_data"
    }
   ],
   "source": [
    "### Run the predictions here and use the model to output the prediction for each image.\n",
    "### Make sure to pre-process the images with the same pre-processing pipeline used earlier.\n",
    "### Feel free to use as many code cells as needed.\n",
    "\n",
    "\n",
    "#preprocessing\n",
    "X_new_norm=norm(grayscale(X_new))\n",
    "#Evaluation\n",
    "with tf.Session() as sess:\n",
    "    saver.restore(sess, tf.train.latest_checkpoint('.'))\n",
    "    output=sess.run(logits, feed_dict={x: X_new_norm, keep_prob: 1.0})\n",
    "    #print(np.shape(output))\n",
    "    output_class = np.argmax(output, axis = 1)\n",
    "    #print(output_class)\n",
    "\n",
    "# Plot the prediction result\n",
    "print('Prediction Result:')\n",
    "fig, axs = plt.subplots(2,4, figsize=(8, 4))\n",
    "fig.subplots_adjust(hspace = .2, wspace=.01)\n",
    "axs = axs.ravel()\n",
    "for i in range(8):\n",
    "    name=signnames[1][output_class[i]+1]\n",
    "    axs[i].set_title(name, fontsize=10)\n",
    "    axs[i].imshow(images[i])\n",
    "    axs[i].axis('off')\n",
    "\n"
   ]
  },
  {
   "cell_type": "markdown",
   "metadata": {},
   "source": [
    "### Analyze Performance"
   ]
  },
  {
   "cell_type": "code",
   "execution_count": 17,
   "metadata": {},
   "outputs": [
    {
     "name": "stdout",
     "output_type": "stream",
     "text": [
      "Test Accuracy = 100.00 %\n",
      "Image No.1: Stop\n",
      "Prediction: Stop\n",
      "Image No.2: Road work\n",
      "Prediction: Road work\n",
      "Image No.3: Speed limit (60km/h)\n",
      "Prediction: Speed limit (60km/h)\n",
      "Image No.4: No vehicles\n",
      "Prediction: No vehicles\n",
      "Image No.5: General caution\n",
      "Prediction: General caution\n",
      "Image No.6: Turn left ahead\n",
      "Prediction: Turn left ahead\n",
      "Image No.7: Speed limit (20km/h)\n",
      "Prediction: Speed limit (20km/h)\n",
      "Image No.8: Yield\n",
      "Prediction: Yield\n"
     ]
    }
   ],
   "source": [
    "### Calculate the accuracy for these 5 new images. \n",
    "### For example, if the model predicted 1 out of 5 signs correctly, it's 20% accurate on these new images.\n",
    "\n",
    "with tf.Session() as sess:\n",
    "    saver.restore(sess, tf.train.latest_checkpoint('.'))\n",
    "    test_accuracy = evaluate(X_new_norm, labels)\n",
    "    print(\"Test Accuracy = {:.2f} %\".format(test_accuracy*100))\n",
    "\n",
    "for i in range(8):\n",
    "    print('Image No.%i: '%(i+1)+signnames[1][labels[i]+1])\n",
    "    print('Prediction: '+signnames[1][output_class[i]+1])"
   ]
  },
  {
   "cell_type": "markdown",
   "metadata": {},
   "source": [
    "### Output Top 5 Softmax Probabilities For Each Image Found on the Web"
   ]
  },
  {
   "cell_type": "markdown",
   "metadata": {},
   "source": [
    "For each of the new images, print out the model's softmax probabilities to show the **certainty** of the model's predictions (limit the output to the top 5 probabilities for each image). [`tf.nn.top_k`](https://www.tensorflow.org/versions/r0.12/api_docs/python/nn.html#top_k) could prove helpful here. \n",
    "\n",
    "The example below demonstrates how tf.nn.top_k can be used to find the top k predictions for each image.\n",
    "\n",
    "`tf.nn.top_k` will return the values and indices (class ids) of the top k predictions. So if k=3, for each sign, it'll return the 3 largest probabilities (out of a possible 43) and the correspoding class ids.\n",
    "\n",
    "Take this numpy array as an example. The values in the array represent predictions. The array contains softmax probabilities for five candidate images with six possible classes. `tf.nn.top_k` is used to choose the three classes with the highest probability:\n",
    "\n",
    "```\n",
    "# (5, 6) array\n",
    "a = np.array([[ 0.24879643,  0.07032244,  0.12641572,  0.34763842,  0.07893497,\n",
    "         0.12789202],\n",
    "       [ 0.28086119,  0.27569815,  0.08594638,  0.0178669 ,  0.18063401,\n",
    "         0.15899337],\n",
    "       [ 0.26076848,  0.23664738,  0.08020603,  0.07001922,  0.1134371 ,\n",
    "         0.23892179],\n",
    "       [ 0.11943333,  0.29198961,  0.02605103,  0.26234032,  0.1351348 ,\n",
    "         0.16505091],\n",
    "       [ 0.09561176,  0.34396535,  0.0643941 ,  0.16240774,  0.24206137,\n",
    "         0.09155967]])\n",
    "```\n",
    "\n",
    "Running it through `sess.run(tf.nn.top_k(tf.constant(a), k=3))` produces:\n",
    "\n",
    "```\n",
    "TopKV2(values=array([[ 0.34763842,  0.24879643,  0.12789202],\n",
    "       [ 0.28086119,  0.27569815,  0.18063401],\n",
    "       [ 0.26076848,  0.23892179,  0.23664738],\n",
    "       [ 0.29198961,  0.26234032,  0.16505091],\n",
    "       [ 0.34396535,  0.24206137,  0.16240774]]), indices=array([[3, 0, 5],\n",
    "       [0, 1, 4],\n",
    "       [0, 5, 1],\n",
    "       [1, 3, 5],\n",
    "       [1, 4, 3]], dtype=int32))\n",
    "```\n",
    "\n",
    "Looking just at the first row we get `[ 0.34763842,  0.24879643,  0.12789202]`, you can confirm these are the 3 largest probabilities in `a`. You'll also notice `[3, 0, 5]` are the corresponding indices."
   ]
  },
  {
   "cell_type": "code",
   "execution_count": 18,
   "metadata": {},
   "outputs": [
    {
     "name": "stdout",
     "output_type": "stream",
     "text": [
      "Image No.1 :\n",
      "Probability: 99.99985695 % (Stop)\n",
      "Probability: 0.00008309 % (Keep right)\n",
      "Probability: 0.00004642 % (No entry)\n",
      "Probability: 0.00000995 % (Yield)\n",
      "Probability: 0.00000881 % (Priority road)\n",
      "Image No.2 :\n",
      "Probability: 100.00000000 % (Road work)\n",
      "Probability: 0.00000059 % (Children crossing)\n",
      "Probability: 0.00000001 % (Road narrows on the right)\n",
      "Probability: 0.00000000 % (Slippery road)\n",
      "Probability: 0.00000000 % (Beware of ice/snow)\n",
      "Image No.3 :\n",
      "Probability: 56.30338788 % (Speed limit (60km/h))\n",
      "Probability: 43.39033067 % (Speed limit (50km/h))\n",
      "Probability: 0.23330173 % (Children crossing)\n",
      "Probability: 0.04509717 % (Speed limit (20km/h))\n",
      "Probability: 0.01745929 % (Road work)\n",
      "Image No.4 :\n",
      "Probability: 91.99331403 % (No vehicles)\n",
      "Probability: 3.60334478 % (Priority road)\n",
      "Probability: 2.69110594 % (Speed limit (50km/h))\n",
      "Probability: 1.32278847 % (Speed limit (30km/h))\n",
      "Probability: 0.17277919 % (Roundabout mandatory)\n",
      "Image No.5 :\n",
      "Probability: 100.00000000 % (General caution)\n",
      "Probability: 0.00000000 % (Pedestrians)\n",
      "Probability: 0.00000000 % (Traffic signals)\n",
      "Probability: 0.00000000 % (Road narrows on the right)\n",
      "Probability: 0.00000000 % (Right-of-way at the next intersection)\n",
      "Image No.6 :\n",
      "Probability: 100.00000000 % (Turn left ahead)\n",
      "Probability: 0.00000000 % (No vehicles)\n",
      "Probability: 0.00000000 % (Keep right)\n",
      "Probability: 0.00000000 % (Bumpy road)\n",
      "Probability: 0.00000000 % (No passing)\n",
      "Image No.7 :\n",
      "Probability: 99.36640263 % (Speed limit (20km/h))\n",
      "Probability: 0.63353386 % (Speed limit (30km/h))\n",
      "Probability: 0.00005586 % (Speed limit (50km/h))\n",
      "Probability: 0.00000264 % (Speed limit (100km/h))\n",
      "Probability: 0.00000099 % (Speed limit (120km/h))\n",
      "Image No.8 :\n",
      "Probability: 100.00000000 % (Yield)\n",
      "Probability: 0.00000000 % (Speed limit (50km/h))\n",
      "Probability: 0.00000000 % (No vehicles)\n",
      "Probability: 0.00000000 % (Priority road)\n",
      "Probability: 0.00000000 % (Speed limit (30km/h))\n"
     ]
    }
   ],
   "source": [
    "### Print out the top five softmax probabilities for the predictions on the German traffic sign images found on the web. \n",
    "### Feel free to use as many code cells as needed.\n",
    "\n",
    "# Define top five softmax probability\n",
    "softmax=tf.nn.softmax(logits)\n",
    "top_five=tf.nn.top_k(softmax, k=5)\n",
    "\n",
    "# Calculate Top Five Softmax Probability\n",
    "with tf.Session() as sess:\n",
    "    saver.restore(sess, tf.train.latest_checkpoint('.'))\n",
    "    output=sess.run(top_five, feed_dict={x: X_new_norm, keep_prob: 1.0})\n",
    "\n",
    "prob_value=output[0]\n",
    "index=output[1]\n",
    "\n",
    "#Plot\n",
    "for i in range(8):\n",
    "    print('Image No.%i :'%(i+1))\n",
    "    for j in range(5):\n",
    "        name=signnames[1][index[i][j]+1]\n",
    "        print('Probability: {:.8f} %'.format(prob_value[i][j]*100) +' (%s)'%name)\n"
   ]
  },
  {
   "cell_type": "markdown",
   "metadata": {},
   "source": [
    "### Project Writeup\n",
    "\n",
    "Once you have completed the code implementation, document your results in a project writeup using this [template](https://github.com/udacity/CarND-Traffic-Sign-Classifier-Project/blob/master/writeup_template.md) as a guide. The writeup can be in a markdown or pdf file. "
   ]
  },
  {
   "cell_type": "markdown",
   "metadata": {},
   "source": [
    "> **Note**: Once you have completed all of the code implementations and successfully answered each question above, you may finalize your work by exporting the iPython Notebook as an HTML document. You can do this by using the menu above and navigating to  \\n\",\n",
    "    \"**File -> Download as -> HTML (.html)**. Include the finished document along with this notebook as your submission."
   ]
  },
  {
   "cell_type": "markdown",
   "metadata": {},
   "source": [
    "---\n",
    "\n",
    "## Step 4 (Optional): Visualize the Neural Network's State with Test Images\n",
    "\n",
    " This Section is not required to complete but acts as an additional excersise for understaning the output of a neural network's weights. While neural networks can be a great learning device they are often referred to as a black box. We can understand what the weights of a neural network look like better by plotting their feature maps. After successfully training your neural network you can see what it's feature maps look like by plotting the output of the network's weight layers in response to a test stimuli image. From these plotted feature maps, it's possible to see what characteristics of an image the network finds interesting. For a sign, maybe the inner network feature maps react with high activation to the sign's boundary outline or to the contrast in the sign's painted symbol.\n",
    "\n",
    " Provided for you below is the function code that allows you to get the visualization output of any tensorflow weight layer you want. The inputs to the function should be a stimuli image, one used during training or a new one you provided, and then the tensorflow variable name that represents the layer's state during the training process, for instance if you wanted to see what the [LeNet lab's](https://classroom.udacity.com/nanodegrees/nd013/parts/fbf77062-5703-404e-b60c-95b78b2f3f9e/modules/6df7ae49-c61c-4bb2-a23e-6527e69209ec/lessons/601ae704-1035-4287-8b11-e2c2716217ad/concepts/d4aca031-508f-4e0b-b493-e7b706120f81) feature maps looked like for it's second convolutional layer you could enter conv2 as the tf_activation variable.\n",
    "\n",
    "For an example of what feature map outputs look like, check out NVIDIA's results in their paper [End-to-End Deep Learning for Self-Driving Cars](https://devblogs.nvidia.com/parallelforall/deep-learning-self-driving-cars/) in the section Visualization of internal CNN State. NVIDIA was able to show that their network's inner weights had high activations to road boundary lines by comparing feature maps from an image with a clear path to one without. Try experimenting with a similar test to show that your trained network's weights are looking for interesting features, whether it's looking at differences in feature maps from images with or without a sign, or even what feature maps look like in a trained network vs a completely untrained one on the same sign image.\n",
    "\n",
    "<figure>\n",
    " <img src=\"visualize_cnn.png\" width=\"380\" alt=\"Combined Image\" />\n",
    " <figcaption>\n",
    " <p></p> \n",
    " <p style=\"text-align: center;\"> Your output should look something like this (above)</p> \n",
    " </figcaption>\n",
    "</figure>\n",
    " <p></p> \n"
   ]
  },
  {
   "cell_type": "code",
   "execution_count": 19,
   "metadata": {
    "collapsed": true
   },
   "outputs": [],
   "source": [
    "### Visualize your network's feature maps here.\n",
    "### Feel free to use as many code cells as needed.\n",
    "\n",
    "# image_input: the test image being fed into the network to produce the feature maps\n",
    "# tf_activation: should be a tf variable name used during your training procedure that represents the calculated state of a specific weight layer\n",
    "# activation_min/max: can be used to view the activation contrast in more detail, by default matplot sets min and max to the actual min and max values of the output\n",
    "# plt_num: used to plot out multiple different weight feature map sets on the same block, just extend the plt number for each new feature map entry\n",
    "\n",
    "def outputFeatureMap(image_input, tf_activation, activation_min=-1, activation_max=-1 ,plt_num=1):\n",
    "    # Here make sure to preprocess your image_input in a way your network expects\n",
    "    # with size, normalization, ect if needed\n",
    "    # image_input =\n",
    "    # Note: x should be the same name as your network's tensorflow data placeholder variable\n",
    "    # If you get an error tf_activation is not defined it may be having trouble accessing the variable from inside a function\n",
    "    activation = tf_activation.eval(session=sess,feed_dict={x : image_input})\n",
    "    featuremaps = activation.shape[3]\n",
    "    plt.figure(plt_num, figsize=(15,15))\n",
    "    for featuremap in range(featuremaps):\n",
    "        plt.subplot(6,8, featuremap+1) # sets the number of feature maps to show on each row and column\n",
    "        plt.title('FeatureMap ' + str(featuremap)) # displays the feature map number\n",
    "        if activation_min != -1 & activation_max != -1:\n",
    "            plt.imshow(activation[0,:,:, featuremap], interpolation=\"nearest\", vmin =activation_min, vmax=activation_max, cmap=\"gray\")\n",
    "        elif activation_max != -1:\n",
    "            plt.imshow(activation[0,:,:, featuremap], interpolation=\"nearest\", vmax=activation_max, cmap=\"gray\")\n",
    "        elif activation_min !=-1:\n",
    "            plt.imshow(activation[0,:,:, featuremap], interpolation=\"nearest\", vmin=activation_min, cmap=\"gray\")\n",
    "        else:\n",
    "            plt.imshow(activation[0,:,:, featuremap], interpolation=\"nearest\", cmap=\"gray\")\n",
    "\n",
    "            \n"
   ]
  },
  {
   "cell_type": "code",
   "execution_count": 20,
   "metadata": {
    "collapsed": true
   },
   "outputs": [],
   "source": [
    "# Network Architecture\n",
    "# Arguments used for tf.truncated_normal, randomly defines variables for the weights and biases for each layer\n",
    "\n",
    "x = tf.placeholder(tf.float32, (None, 32, 32, 1))\n",
    "y = tf.placeholder(tf.int32, (None))\n",
    "keep_prob = tf.placeholder(tf.float32)\n",
    "one_hot_y = tf.one_hot(y, 43)\n",
    "\n",
    "mu = 0\n",
    "sigma = 0.1\n",
    "    \n",
    "# Layer 1: Convolutional. Input = 32x32x1. Output = 28x28x6.\n",
    "conv1_W = tf.Variable(tf.truncated_normal(shape=(5, 5, 1, 6), mean = mu, stddev = sigma))\n",
    "conv1_b = tf.Variable(tf.zeros(6))\n",
    "conv1   = tf.nn.conv2d(x, conv1_W, strides=[1, 1, 1, 1], padding='VALID') + conv1_b\n",
    "\n",
    "# Activation.\n",
    "conv1 = tf.nn.relu(conv1)\n",
    "\n",
    "# Pooling. Input = 28x28x6. Output = 14x14x6.\n",
    "conv1 = tf.nn.max_pool(conv1, ksize=[1, 2, 2, 1], strides=[1, 2, 2, 1], padding='VALID')\n",
    "\n",
    "# Layer 2: Convolutional. Output = 10x10x16.\n",
    "conv2_W = tf.Variable(tf.truncated_normal(shape=(5, 5, 6, 16), mean = mu, stddev = sigma))\n",
    "conv2_b = tf.Variable(tf.zeros(16))\n",
    "conv2   = tf.nn.conv2d(conv1, conv2_W, strides=[1, 1, 1, 1], padding='VALID') + conv2_b\n",
    "\n",
    "# Activation.\n",
    "conv2 = tf.nn.relu(conv2)\n",
    "\n",
    "# Pooling. Input = 10x10x16. Output = 5x5x16.\n",
    "conv2 = tf.nn.max_pool(conv2, ksize=[1, 2, 2, 1], strides=[1, 2, 2, 1], padding='VALID')\n",
    "\n",
    "# Layer 3: Convolutional. Input=5x5x16. Output=1x1x400\n",
    "conv3_W = tf.Variable(tf.truncated_normal(shape=(5, 5, 16, 400), mean = mu, stddev = sigma))\n",
    "conv3_b = tf.Variable(tf.zeros(400))\n",
    "conv3   = tf.nn.conv2d(conv2, conv3_W, strides=[1, 1, 1, 1], padding='VALID') + conv3_b\n",
    "# Activation.\n",
    "conv3 = tf.nn.relu(conv3)\n",
    "\n",
    "\n",
    "# Flatten. Input1 = 5x5x16. Input2=1x1x400, Output = 400.\n",
    "fc0_input1   = flatten(conv2)\n",
    "fc0_input2   = flatten(conv3)\n",
    "fc0 = tf.concat_v2([fc0_input1, fc0_input2], 1)\n",
    "\n",
    "# Dropout. \n",
    "fc0 = tf.nn.dropout(fc0, keep_prob)\n",
    "\n",
    "\n",
    "# Layer 4: Fully Connected. Input = 800. Output = 43.\n",
    "fc1_W = tf.Variable(tf.truncated_normal(shape=(800, 43), mean = mu, stddev = sigma))\n",
    "fc1_b = tf.Variable(tf.zeros(43))\n",
    "fc1   = tf.matmul(fc0, fc1_W) + fc1_b\n",
    "\n",
    "logits=fc1\n",
    "\n"
   ]
  },
  {
   "cell_type": "code",
   "execution_count": 21,
   "metadata": {
    "scrolled": true
   },
   "outputs": [
    {
     "data": {
      "image/png": "[encoded data removed]",
      "text/plain": [
       "<matplotlib.figure.Figure at 0x7f349289fb00>"
      ]
     },
     "metadata": {},
     "output_type": "display_data"
    }
   ],
   "source": [
    "# Read test image \n",
    "filename=\"test-images/test3.png\"\n",
    "image=cv2.imread(filename)\n",
    "#resize image to 32x32\n",
    "image=cv2.resize(image,(32,32),interpolation = cv2.INTER_CUBIC)\n",
    "#Convert the color to RGB\n",
    "image=cv2.cvtColor(image, cv2.COLOR_BGR2RGB)\n",
    "plt.imshow(image)\n",
    "test_image=np.zeros((1,32,32,3))\n",
    "test_image[0]=image\n",
    "#print(test_image.shape)\n",
    "# Preprocessing\n",
    "test_image_norm=norm(grayscale(test_image))\n",
    "#print(test_image_norm.shape)"
   ]
  },
  {
   "cell_type": "code",
   "execution_count": 22,
   "metadata": {
    "scrolled": false
   },
   "outputs": [
    {
     "data": {
      "image/png": "[encoded data removed]",
      "text/plain": [
       "<matplotlib.figure.Figure at 0x7f351cabc630>"
      ]
     },
     "metadata": {},
     "output_type": "display_data"
    }
   ],
   "source": [
    "# Plot the feature in Conv1 Layer\n",
    "tf_activation=conv1\n",
    "with tf.Session() as sess:\n",
    "    saver.restore(sess, tf.train.latest_checkpoint('.'))\n",
    "    sess.run(tf.global_variables_initializer())\n",
    "    sess.run(tf_activation,feed_dict={x: test_image_norm, keep_prob: 1.0})\n",
    "    outputFeatureMap(test_image_norm, tf_activation)"
   ]
  },
  {
   "cell_type": "code",
   "execution_count": 23,
   "metadata": {},
   "outputs": [
    {
     "data": {
      "image/png": "[encoded data removed]",
      "text/plain": [
       "<matplotlib.figure.Figure at 0x7f34843d9be0>"
      ]
     },
     "metadata": {},
     "output_type": "display_data"
    }
   ],
   "source": [
    "# Plot the feature in Conv2 Layer\n",
    "tf_activation=conv2\n",
    "with tf.Session() as sess:\n",
    "    saver.restore(sess, tf.train.latest_checkpoint('.'))\n",
    "    sess.run(tf.global_variables_initializer())\n",
    "    sess.run(tf_activation,feed_dict={x: test_image_norm, keep_prob: 1.0})\n",
    "    outputFeatureMap(test_image_norm, tf_activation)"
   ]
  },
  {
   "cell_type": "code",
   "execution_count": null,
   "metadata": {
    "collapsed": true
   },
   "outputs": [],
   "source": []
  }
 ],
 "metadata": {
  "anaconda-cloud": {},
  "kernelspec": {
   "display_name": "Python 3",
   "language": "python",
   "name": "python3"
  },
  "language_info": {
   "codemirror_mode": {
    "name": "ipython",
    "version": 3
   },
   "file_extension": ".py",
   "mimetype": "text/x-python",
   "name": "python",
   "nbconvert_exporter": "python",
   "pygments_lexer": "ipython3",
   "version": "3.5.2"
  },
  "widgets": {
   "state": {},
   "version": "1.1.2"
  }
 },
 "nbformat": 4,
 "nbformat_minor": 1
}
